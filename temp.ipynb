{
 "cells": [
  {
   "cell_type": "code",
   "execution_count": 22,
   "metadata": {},
   "outputs": [],
   "source": [
    "class Node:\n",
    "    def __init__(self,val):\n",
    "        self.val = val\n",
    "        self.to = {}"
   ]
  },
  {
   "cell_type": "code",
   "execution_count": 137,
   "metadata": {},
   "outputs": [],
   "source": [
    "class Node:\n",
    "    def __init__(self,val):\n",
    "        self.val:int = val\n",
    "        self.to:dict[Node,tuple[int,int]] = {} # destinationNode:(steps,price)\n",
    "    \n",
    "    def __str__(self) -> str:\n",
    "        children = ','.join(str(i.val) for i in self.to.keys())\n",
    "        return f\"Node({self.val})\"\n",
    "    \n",
    "    def __repr__(self) -> str:\n",
    "        children = ','.join(str(i.val) for i in self.to.keys())\n",
    "        return f\"Node({self.val})\"\n",
    "    \n",
    "    def full(self) -> str:\n",
    "        children = ','.join(str(i.val) for i in self.to.keys())\n",
    "        return f\"Node({self.val})->[{children}]\"\n",
    "\n",
    "def update(node:Node, start:list[int]):\n",
    "    # print(\"iter\", node, start)\n",
    "    if node.val in start:\n",
    "        # print(\"found: \", node, \" => \", start)\n",
    "        return {}\n",
    "    ret:dict[Node,set[tuple[int,int]]] = {\n",
    "            i:set([tuple(node.to[i]),]) for i in node.to.keys()\n",
    "        } # destinationNode:[(steps1,price1), (steps2,price2), ...]\n",
    "    for destinationNode,(steps,price) in node.to.items():\n",
    "        # print(f\"step {node} to {destinationNode}\")\n",
    "        returned = update(destinationNode, [*start,node.val])\n",
    "        # print(f\"{node.val} going to {destinationNode.val} got {returned}\")\n",
    "        if returned == {}:\n",
    "            # print(f\"here on\")\n",
    "            ret[destinationNode].add((steps,price))\n",
    "            continue\n",
    "        for v,mylist in returned.items():\n",
    "            # v is the a possible destination from our destination node\n",
    "            # my list is a list of the steps and prices to that possible destination\n",
    "            for (stp,prc) in mylist:\n",
    "                newTuple = (stp+steps,prc+price)\n",
    "                if ret.get(v):\n",
    "                    ret[v].add(newTuple)\n",
    "                else:\n",
    "                    ret[v] = set([newTuple,])\n",
    "    return ret"
   ]
  },
  {
   "cell_type": "code",
   "execution_count": 176,
   "metadata": {},
   "outputs": [],
   "source": [
    "from cmath import inf\n",
    "\n",
    "def findCheapestPrice(n: int, flights: list[list[int]], src: int, dst: int, k: int) -> int:\n",
    "    nodes:dict[int,Node] = {}\n",
    "    for s,d,p in flights:\n",
    "        dnode = nodes.get(d)\n",
    "        if dnode:\n",
    "            snode = nodes.get(s)\n",
    "            if snode:\n",
    "                snode.to[dnode] = (1,p)\n",
    "            else:\n",
    "                nd = Node(s)\n",
    "                nd.to[dnode] = (1,p)\n",
    "                nodes[s] = nd\n",
    "        else:\n",
    "            snode = nodes.get(s)\n",
    "            if snode:\n",
    "                nd = Node(d)\n",
    "                snode.to[nd] = (1,p)\n",
    "                nodes[d] = nd\n",
    "            else:\n",
    "                nd1 = Node(s)\n",
    "                nd2 = Node(d)\n",
    "                nd1.to[nd2] = (1,p)\n",
    "                nodes[s] = nd1\n",
    "                nodes[d] = nd2\n",
    "    for _,node in nodes.items():\n",
    "        print(node.full())\n",
    "    return method2(nodes, src, dst, k)\n",
    "\n",
    "def method1(nodes:dict[int,Node], src:int, dst:int, k:int) -> int:\n",
    "    results = {}\n",
    "    for val,node in nodes.items():\n",
    "        ret = update(node, [])\n",
    "        results[val] = ret\n",
    "    desired = results[src].get(nodes[dst])\n",
    "    if not desired:\n",
    "        return -1\n",
    "    filtered = []\n",
    "    k = k + 1\n",
    "    for d in desired:\n",
    "        if d[0] <= k:\n",
    "            filtered.append(d)\n",
    "    return min(filtered, key=lambda x:x[1])\n",
    "\n",
    "def method2(nodes:dict[int,Node], src:int, dst:int, k:int) -> int:\n",
    "    def recurse(node:Node, dst:int, k:int, visited:list[int]):\n",
    "        results = []\n",
    "        if k == 1:\n",
    "            for nd in node.to.keys():\n",
    "                if nd.val == dst:\n",
    "                    return node.to[nd][1]\n",
    "            return inf\n",
    "        if node.val in visited:\n",
    "            return inf\n",
    "        for nd in node.to.keys():\n",
    "            if nd.val == dst:\n",
    "                results.append(node.to[nd][1])\n",
    "            else:\n",
    "                temp = recurse(nd, dst, k-1, [*visited, node.val]) + node.to[nd][1]\n",
    "                results.append(temp)\n",
    "        if len(results):\n",
    "            return min(results)\n",
    "        return inf\n",
    "    \n",
    "    k = k+1\n",
    "    node = nodes[src]\n",
    "    result = recurse(node, dst, k, [])\n",
    "    if result == inf:\n",
    "        return -1\n",
    "    return result"
   ]
  },
  {
   "cell_type": "code",
   "execution_count": 157,
   "metadata": {},
   "outputs": [
    {
     "data": {
      "text/plain": [
       "100"
      ]
     },
     "execution_count": 157,
     "metadata": {},
     "output_type": "execute_result"
    }
   ],
   "source": [
    "findCheapestPrice(n = 3, flights = [[0,1,100],[1,2,100],[0,2,500]], src = 0, dst = 2, k = 1)"
   ]
  },
  {
   "cell_type": "code",
   "execution_count": 178,
   "metadata": {},
   "outputs": [
    {
     "name": "stdout",
     "output_type": "stream",
     "text": [
      "Node(0)->[12,8,15,10]\n",
      "Node(12)->[4,3,14,13,9,0,16,6]\n",
      "Node(5)->[6,14,13,16,10,9,7]\n",
      "Node(6)->[14,10,2,12]\n",
      "Node(8)->[6,10,11,9,2,13,3]\n",
      "Node(13)->[15,12,6,16,0,5,11,7,8]\n",
      "Node(15)->[3,0,6,13,12,11,14,2]\n",
      "Node(10)->[12,2,15,11,5,4,9,0,7]\n",
      "Node(3)->[4,12,5,6,7,10]\n",
      "Node(7)->[11,3,1,14,0,12,2]\n",
      "Node(11)->[16,1,0,2,6,9]\n",
      "Node(9)->[4,6,1,12,7,10,15,5]\n",
      "Node(4)->[7,9,8,5,11,10]\n",
      "Node(2)->[12,0,11,5,13,10,7]\n",
      "Node(14)->[15,1,9,7,11,6]\n",
      "Node(16)->[4,12,1,3,8,11,9,14]\n",
      "Node(1)->[11,4,3,7]\n"
     ]
    },
    {
     "data": {
      "text/plain": [
       "47"
      ]
     },
     "execution_count": 178,
     "metadata": {},
     "output_type": "execute_result"
    }
   ],
   "source": [
    "findCheapestPrice(n = 4, flights = [[0,12,28],[5,6,39],[8,6,59],[13,15,7],[13,12,38],[10,12,35],[15,3,23],[7,11,26],[9,4,65],[10,2,38],[4,7,7],[14,15,31],[2,12,44],[8,10,34],[13,6,29],[5,14,89],[11,16,13],[7,3,46],[10,15,19],[12,4,58],[13,16,11],[16,4,76],[2,0,12],[15,0,22],[16,12,13],[7,1,29],[7,14,100],[16,1,14],[9,6,74],[11,1,73],[2,11,60],[10,11,85],[2,5,49],[3,4,17],[4,9,77],[16,3,47],[15,6,78],[14,1,90],[10,5,95],[1,11,30],[11,0,37],[10,4,86],[0,8,57],[6,14,68],[16,8,3],[13,0,65],[2,13,6],[5,13,5],[8,11,31],[6,10,20],[6,2,33],[9,1,3],[14,9,58],[12,3,19],[11,2,74],[12,14,48],[16,11,100],[3,12,38],[12,13,77],[10,9,99],[15,13,98],[15,12,71],[1,4,28],[7,0,83],[3,5,100],[8,9,14],[15,11,57],[3,6,65],[1,3,45],[14,7,74],[2,10,39],[4,8,73],[13,5,77],[10,0,43],[12,9,92],[8,2,26],[1,7,7],[9,12,10],[13,11,64],[8,13,80],[6,12,74],[9,7,35],[0,15,48],[3,7,87],[16,9,42],[5,16,64],[4,5,65],[15,14,70],[12,0,13],[16,14,52],[3,10,80],[14,11,85],[15,2,77],[4,11,19],[2,7,49],[10,7,78],[14,6,84],[13,7,50],[11,6,75],[5,10,46],[13,8,43],[9,10,49],[7,12,64],[0,10,76],[5,9,77],[8,3,28],[11,9,28],[12,16,87],[12,6,24],[9,15,94],[5,7,77],[4,10,18],[7,2,11],[9,5,41]], src = 13, dst = 4, k = 13)"
   ]
  }
 ],
 "metadata": {
  "kernelspec": {
   "display_name": "base",
   "language": "python",
   "name": "python3"
  },
  "language_info": {
   "codemirror_mode": {
    "name": "ipython",
    "version": 3
   },
   "file_extension": ".py",
   "mimetype": "text/x-python",
   "name": "python",
   "nbconvert_exporter": "python",
   "pygments_lexer": "ipython3",
   "version": "3.12.4"
  }
 },
 "nbformat": 4,
 "nbformat_minor": 2
}
